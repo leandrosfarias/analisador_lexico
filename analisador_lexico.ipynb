{
  "nbformat": 4,
  "nbformat_minor": 0,
  "metadata": {
    "colab": {
      "provenance": [],
      "collapsed_sections": [
        "bHSPactYSjZA",
        "jULH2mJGAldI",
        "2PfnwuWPA41r",
        "C7eT818jBceZ",
        "m70ju29IudlG"
      ],
      "include_colab_link": true
    },
    "kernelspec": {
      "name": "python3",
      "display_name": "Python 3"
    },
    "language_info": {
      "name": "python"
    }
  },
  "cells": [
    {
      "cell_type": "markdown",
      "metadata": {
        "id": "view-in-github",
        "colab_type": "text"
      },
      "source": [
        "<a href=\"https://colab.research.google.com/github/leandrosfarias/analisador_lexico/blob/regex/analisador_lexico.ipynb\" target=\"_parent\"><img src=\"https://colab.research.google.com/assets/colab-badge.svg\" alt=\"Open In Colab\"/></a>"
      ]
    },
    {
      "cell_type": "markdown",
      "source": [
        "### modulo.erro"
      ],
      "metadata": {
        "id": "bHSPactYSjZA"
      }
    },
    {
      "cell_type": "code",
      "source": [
        "import re\n",
        "\n",
        "class Erro():\n",
        "\n",
        "  def __init__(self):\n",
        "    pass\n",
        "\n",
        "\n",
        "  def checa_linguagem(programa):\n",
        "    linhas = programa\n",
        "    une_linhas = ''\n",
        "    for linha in programa:\n",
        "      une_linhas += re.sub('\\/\\/.*$', '', linha.strip().replace(' ', ''))\n",
        "    so_simbolos = re.sub('[a-zA-Z]+|\\\".+[^\"]\\\"|\\d+', \"\", une_linhas)\n",
        "    regra_simbolos_diferentes = '[^\\:=|;|\\.|,|\\(|\\)|\\:|\\+|\\-|\\*|\\/|<=|>=|\\==|\\<>|<|>|\\~]'\n",
        "    if bool(re.search(regra_simbolos_diferentes, so_simbolos)):\n",
        "      simbolos_diferentes = re.findall(regra_simbolos_diferentes, so_simbolos)\n",
        "      for linha in linhas:\n",
        "        if simbolos_diferentes[0] in linha:\n",
        "          raise Exception(f'erro encontrado na linha: {linhas.index(linha)+1}')\n"
      ],
      "metadata": {
        "id": "3FtarWSjSjBQ"
      },
      "execution_count": 20,
      "outputs": []
    },
    {
      "cell_type": "markdown",
      "source": [
        "### modulo.linguagem"
      ],
      "metadata": {
        "id": "jULH2mJGAldI"
      }
    },
    {
      "cell_type": "code",
      "source": [
        "class Gramatica():\n",
        "  \n",
        "  regras = {\n",
        "      'strings':                '\\\".+[^\"]\\\"',\n",
        "      'palavras_reservadas':    'PROGRAM|INTEGER|BOOLEAN|BEGIN|END|WHILE|DO|READ|VAR|FALSE|TRUE|WRITE|IF|ELSE|THEN',\n",
        "      'simbolos':               '\\:=|;|\\.|,|\\(|\\)|\\:',\n",
        "      'operadores_aritmeticos': '\\+|\\*|\\/',\n",
        "      'menos':                  '\\-',\n",
        "      'operador_negacao':       '\\~',\n",
        "      'identificadores':        '[a-zA-Z]+[0-9]*',\n",
        "      'numeros':                '[0-9]+',\n",
        "      'operadores_relacionais': '<=|>=|\\==|\\<>|<|>',\n",
        "      'operadores_logicos':     'OR|AND',\n",
        "  }\n",
        "\n",
        "\n",
        "  def __init__(self):\n",
        "      self.gramatica = self.une_regras()\n",
        "\n",
        "\n",
        "  def une_regras(self):\n",
        "      regex = ''\n",
        "      for regra in self.regras.values():\n",
        "          regex += f'{regra}|'\n",
        "      regex = regex[:-1]\n",
        "      return regex\n"
      ],
      "metadata": {
        "id": "1y0fsAIGApCm"
      },
      "execution_count": 21,
      "outputs": []
    },
    {
      "cell_type": "markdown",
      "source": [
        "### modulo.scanner"
      ],
      "metadata": {
        "id": "2PfnwuWPA41r"
      }
    },
    {
      "cell_type": "code",
      "source": [
        "import re\n",
        "\n",
        "class Scanner():\n",
        "  \n",
        "  def __init__(self, caminho):\n",
        "      self.programa = open(caminho).read()\n",
        "      linhas_programa = open(caminho).readlines()\n",
        "      Erro.checa_linguagem(linhas_programa)\n",
        "      self.trata_programa()\n",
        "\n",
        "\n",
        "  def trata_programa(self):\n",
        "    self.programa = self.programa.split('\\n')\n",
        "    for linha in self.programa:\n",
        "      self.programa[self.programa.index(linha)] = linha.strip()\n",
        "      if '//' in linha:\n",
        "        if linha.startswith('//'):\n",
        "          self.programa.remove(linha)\n",
        "        else:\n",
        "          self.programa[self.programa.index(linha)] = re.sub('\\/\\/.*$', '', linha).strip()\n",
        "             "
      ],
      "metadata": {
        "id": "2NDx4ALGA9O3"
      },
      "execution_count": 22,
      "outputs": []
    },
    {
      "cell_type": "markdown",
      "source": [
        "### modulo.token"
      ],
      "metadata": {
        "id": "C7eT818jBceZ"
      }
    },
    {
      "cell_type": "code",
      "source": [
        "class Token():\n",
        "  \n",
        "  tipos = {\n",
        "  'ID':      [\"ID\", \"\"],\n",
        "  'NUMERO':  [\"NUMERO\", \"\"],\n",
        "  '+':       [\"OPAD\", \"MAIS\"],\n",
        "  '-':       \"MENOS\",\n",
        "  '*':       [\"OPMULT\", \"VEZES\"],\n",
        "  '/':       [\"OPMULT\", \"DIV\"],\n",
        "  'OR':      [\"OPLOG\", \"OR\"],\n",
        "  'AND':     [\"OPLOG\", \"AND\"],\n",
        "  '~':       [\"OPNEG\", \"NEG\"],\n",
        "  '<':       [\"OPREL\", \"MENOR\"],\n",
        "  '<=':      [\"OPREL\", \"MENIG\"],\n",
        "  '>':       [\"OPREL\", \"MAIOR\"],\n",
        "  '>=':      [\"OPREL\", \"MAIG\"],\n",
        "  '==':      [\"OPREL\", \"IGUAL\"],\n",
        "  '<>':      [\"OPREL\", \"DIFER\"],\n",
        "  ';':       \"PVIG\",\n",
        "  '.':       \"PONTO\",\n",
        "  ':':       \"DPONTOS\",\n",
        "  ',':       \"VIG\",\n",
        "  '(':       \"ABPAR\",\n",
        "  ')':       \"FEPAR\",\n",
        "  ':=':      \"ATRIB\",\n",
        "  'PROGRAM': \"PROGRAM\",\n",
        "  'INTEGER': \"INTEGER\",\n",
        "  'BOOLEAN': \"BOOLEAN\",\n",
        "  'BEGIN':   \"BEGIN\",\n",
        "  'END':     \"END\",\n",
        "  'WHILE':   \"WHILE\",\n",
        "  'DO':      \"DO\",\n",
        "  'READ':    \"READ\",\n",
        "  'VAR':     \"VAR\",\n",
        "  'FALSE':   \"FALSE\",\n",
        "  'TRUE':    \"TRUE\",\n",
        "  'WRITE':   \"WRITE\",\n",
        "  'IF':      \"IF\",\n",
        "  'ELSE':    \"ELSE\",\n",
        "  'THEN':    \"THEN\",\n",
        "  'STRING':  \"CADEIA\"\n",
        "  }\n",
        "\n",
        "\n",
        "  def __init__(self, caracter):\n",
        "      self.caracter = caracter\n",
        "      self.tipo = self.define_tipo()\n",
        "\n",
        "\n",
        "  def define_tipo(self):\n",
        "    if self.caracter in Token.tipos.keys():\n",
        "      if self.caracter == 'ID' or self.caracter == 'STRING' or self.caracter == 'NUMERO':\n",
        "        token_aux = Token.tipos['ID']\n",
        "        token_aux[1] = self.caracter\n",
        "        return token_aux\n",
        "      else:\n",
        "        for simbolo in Token.tipos.keys():\n",
        "            if self.caracter == simbolo:\n",
        "                return Token.tipos[simbolo]  \n",
        "    elif self.caracter[0] == '\"' and self.caracter[-1] == '\"':\n",
        "        return Token.tipos['STRING']\n",
        "    elif self.caracter.isnumeric():\n",
        "      token_aux = Token.tipos['NUMERO']\n",
        "      token_aux[1] = self.caracter\n",
        "      return token_aux\n",
        "    else:\n",
        "      if len(self.caracter) > 16:\n",
        "        self.caracter = self.caracter[:16]\n",
        "        token_aux = Token.tipos['ID']\n",
        "        token_aux[1] = self.caracter\n",
        "        return token_aux\n",
        "      else:\n",
        "        token_aux = Token.tipos['ID']\n",
        "        token_aux[1] = self.caracter\n",
        "        return token_aux\n",
        "          \n",
        "\n",
        "  def imprimir(self):\n",
        "      if type(self.tipo) == list:\n",
        "          return f'<{self.tipo[0]}, {self.tipo[1]}>'\n",
        "      else:\n",
        "          return f'<{str(self.tipo)}>'\n"
      ],
      "metadata": {
        "id": "53lQqLaQBfuK"
      },
      "execution_count": 23,
      "outputs": []
    },
    {
      "cell_type": "code",
      "source": [
        "\n",
        "class Tokenizador():\n",
        "\n",
        "  def __init__(self, programa):\n",
        "    self.programa = programa\n",
        "\n",
        "    \n",
        "  def retorna_tokens(self):\n",
        "    scanner = Scanner(self.programa)\n",
        "    linguagem = Gramatica().gramatica\n",
        "\n",
        "    tokens_nativos = []\n",
        "\n",
        "    for linha in scanner.programa:\n",
        "      tokens_nativos.append(re.findall(linguagem, linha))\n",
        "    \n",
        "    for grupo_tokens in tokens_nativos:\n",
        "      tokens_tipados = ''\n",
        "      for token in grupo_tokens:\n",
        "        tokens_tipados += f'{Token(token).imprimir()} '\n",
        "      print(tokens_tipados)\n"
      ],
      "metadata": {
        "id": "nGHRNrHe_5bo"
      },
      "execution_count": 24,
      "outputs": []
    },
    {
      "cell_type": "markdown",
      "source": [
        "### main"
      ],
      "metadata": {
        "id": "E2wu-Dz2BrIE"
      }
    },
    {
      "cell_type": "code",
      "source": [
        "Tokenizador('teste.txt').retorna_tokens()"
      ],
      "metadata": {
        "id": "oPgCq9XJBvSz"
      },
      "execution_count": null,
      "outputs": []
    },
    {
      "cell_type": "markdown",
      "source": [
        "teste.txt\n",
        "\n",
        "PROGRAM example;\n",
        "VAR x : INTEGER; //rtreyyrty\n",
        "BEGIN\n",
        "    x := 5 * 10;\n",
        "    WRITE(x);\n",
        "END. \"ret345?/:;>,]}[{~´_=+|\\!@#$%&*()\""
      ],
      "metadata": {
        "id": "6YzyUrbkCKQq"
      }
    }
  ]
}